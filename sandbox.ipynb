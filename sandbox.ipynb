{
 "cells": [
  {
   "cell_type": "code",
   "execution_count": null,
   "metadata": {},
   "outputs": [],
   "source": []
  },
  {
   "cell_type": "markdown",
   "metadata": {},
   "source": [
    "## define additional demographic models in `stdpopsim` model format\n",
    "\n",
    "To-do:\n",
    "- integrate into stdpopsim github repository"
   ]
  },
  {
   "cell_type": "code",
   "execution_count": null,
   "metadata": {},
   "outputs": [],
   "source": [
    "class TennessenTwoPopOutOfAfrica(models.Model):\n",
    "    \"\"\"\n",
    "    The model is derived from the Tennesen et al.\n",
    "    `analysis <https://doi.org/10.1126/science.1219240>`_  of the jSFS from\n",
    "    European Americans and African Americans.\n",
    "\n",
    "    Model parameters are taken from Fig. S5 in\n",
    "    `Fu et al. (2013) <https://doi.org/10.1038/nature11690>`_.\n",
    "\n",
    "    .. todo:: document this model, including the original publications\n",
    "        and clear information about what the different population indexes\n",
    "        mean.\n",
    "\n",
    "    \"\"\"\n",
    "\n",
    "    def __init__(self):\n",
    "        super().__init__()\n",
    "\n",
    "        generation_time = 25\n",
    "        T_AF = 148e3 / generation_time\n",
    "        T_OOA = 51e3 / generation_time\n",
    "        T_EU0 = 23e3 / generation_time\n",
    "        T_EG = 5115 / generation_time\n",
    "\n",
    "        # Growth rates\n",
    "        r_EU0 = 0.00307\n",
    "        r_EU = 0.0195\n",
    "        r_AF = 0.0166\n",
    "\n",
    "        # population sizes\n",
    "        N_A = 7310\n",
    "        N_AF = 14474\n",
    "        N_B = 1861\n",
    "        N_EU0 = 1032\n",
    "        N_EU1 = N_EU0 / math.exp(-r_EU0 * (T_EU0-T_EG))\n",
    "\n",
    "        # migration rates\n",
    "        m_AF_B = 15e-5\n",
    "        m_AF_EU = 2.5e-5\n",
    "\n",
    "        # present Ne\n",
    "        N_EU = N_EU1 / math.exp(-r_EU * T_EG)\n",
    "        N_AF = N_AF / math.exp(-r_AF * T_EG)\n",
    "\n",
    "        self.population_configurations = [\n",
    "            msprime.PopulationConfiguration(initial_size=N_AF, growth_rate=r_AF),\n",
    "            msprime.PopulationConfiguration(initial_size=N_EU, growth_rate=r_EU)\n",
    "        ]\n",
    "\n",
    "        self.migration_matrix = [\n",
    "            [0, 0],\n",
    "            [0, 0],\n",
    "        ]\n",
    "\n",
    "        self.demographic_events = [\n",
    "            msprime.MigrationRateChange(\n",
    "                time=T_EG, rate=m_AF_EU, matrix_index=(0, 1)),\n",
    "            msprime.MigrationRateChange(\n",
    "                time=T_EG, rate=m_AF_EU, matrix_index=(1, 0)),\n",
    "            msprime.PopulationParametersChange(\n",
    "                time=T_EG, growth_rate=r_EU0, initial_size=N_EU1, population_id=1),\n",
    "            msprime.PopulationParametersChange(\n",
    "                time=T_EG, growth_rate=0, initial_size=N_AF, population_id=0),\n",
    "            msprime.MigrationRateChange(\n",
    "                time=T_EU0, rate=m_AF_B, matrix_index=(0, 1)),\n",
    "            msprime.MigrationRateChange(\n",
    "                time=T_EU0, rate=m_AF_B, matrix_index=(1, 0)),\n",
    "            msprime.PopulationParametersChange(\n",
    "                time=T_EU0, initial_size=N_B, growth_rate=0, population_id=1),\n",
    "            msprime.MassMigration(\n",
    "                time=T_OOA, source=1, destination=0, proportion=1.0),\n",
    "            msprime.PopulationParametersChange(\n",
    "                time=T_AF, initial_size=N_A, population_id=0)\n",
    "        ]"
   ]
  },
  {
   "cell_type": "code",
   "execution_count": null,
   "metadata": {},
   "outputs": [],
   "source": []
  },
  {
   "cell_type": "code",
   "execution_count": null,
   "metadata": {},
   "outputs": [],
   "source": [
    "def no_mnms(ts, model_label, output_dir=\"./\", rep_label=0):\n",
    "    prefix = model_label + \"_\" + str(rep_label)\n",
    "    \n",
    "    geno = np.zeros(200, dtype=np.int8)\n",
    "#     eur_geno = np.zeros(100, dtype=np.int8)\n",
    "#     afr_geno = np.zeros(100, dtype=np.int8)\n",
    "\n",
    "    mnm_dict = {}\n",
    "    with open(output_dir + prefix + \".snp\", \"w\") as text_file:\n",
    "        for variant in list(ts.variants()):\n",
    "            print(\"\\t\".join([\"1:\"+str(round(variant.site.position)), \n",
    "                             \"1\", \n",
    "                             str(variant.site.position/10e6), \n",
    "                             str(round(variant.site.position)), \n",
    "                             \"A\", \n",
    "                             \"G\"]), file=text_file)\n",
    "            geno = np.vstack([geno, variant.genotypes])\n",
    "\n",
    "    # delete empty first row used to initialize genotype matrix            \n",
    "    geno = np.delete(geno, (0), axis=0)\n",
    "    \n",
    "    geno_afr = geno[:,:100]\n",
    "    geno_eur = geno[:,100:200]\n",
    "    \n",
    "    geno_pop = [geno_afr, geno_eur]\n",
    "    \n",
    "    for i, pop in enumerate([\"afr\", \"eur\"]):\n",
    "        np.savetxt(output_dir + prefix + \"_\" + pop + \".geno\", geno_pop[i], delimiter=\"\", fmt='%i')\n",
    "\n",
    "    return prefix"
   ]
  },
  {
   "cell_type": "code",
   "execution_count": null,
   "metadata": {},
   "outputs": [],
   "source": [
    "def add_mnms(ts, model_label, output_dir=\"./\", rep_label=0, mnm_dist=100, mnm_frac=0.015):\n",
    "    \n",
    "    # .snp file names are underscore-delimited with model, population MNM parameters (dash-delimited with distance & fraction), and replicate label\n",
    "    # .geno file names add the population label\n",
    "#     prefix = model_label+\"_\"+pop_label+\"_mnm\"+str(mnm_dist)+\"-\"+str(mnm_frac)+\"_\"+str(rep_label)\n",
    "    prefix = model_label+\"_\"+str(rep_label)+\"_mnm\"+str(mnm_dist)+\"-\"+str(mnm_frac)\n",
    "    \n",
    "    geno = np.zeros(200, dtype=np.int8)\n",
    "\n",
    "    mnm_dict = {}\n",
    "    with open(output_dir + prefix + \".snp\", \"w\") as text_file:\n",
    "        for variant in list(ts.variants()):\n",
    "            print(\"\\t\".join([\"1:\"+str(round(variant.site.position)), \n",
    "                             \"1\", \n",
    "                             str(variant.site.position/10e6), \n",
    "                             str(round(variant.site.position)), \n",
    "                             \"A\", \n",
    "                             \"G\"]), file=text_file)\n",
    "            geno = np.vstack([geno, variant.genotypes])\n",
    "            \n",
    "            random.seed(variant.site.position)\n",
    "            if random.random() < mnm_frac:\n",
    "\n",
    "                dist = random.randint(1,mnm_dist)\n",
    "                mnm_cand = variant.site.position+dist \n",
    "                mnm_cand_r = str(round(mnm_cand))\n",
    "                mnm_dict[mnm_cand_r] = [sum(variant.genotypes[0:100])/100, # allele freq in AFR\n",
    "                                        sum(variant.genotypes[100:200])/100, # allele freq in EUR\n",
    "                                        ts.genotype_matrix().shape[0]] # total number of variants before MNMs\n",
    "                print(\"\\t\".join([\"1:\"+mnm_cand_r, \n",
    "                                 \"1\", \n",
    "                                 str(mnm_cand/10e6), \n",
    "                                 mnm_cand_r, \n",
    "                                 \"A\", \n",
    "                                 \"G\"]), file=text_file)\n",
    "                geno = np.vstack([geno, variant.genotypes])\n",
    "\n",
    "    # output MNM data\n",
    "    mnm_df = pd.DataFrame(mnm_dict).T\n",
    "    mnm_df.index.name = \"MNM_POS\"\n",
    "    mnm_df = mnm_df.rename(columns={0: \"AF_AFR\", \n",
    "                                    1: \"AF_EUR\", \n",
    "                                    2: \"N_TOT\"})\n",
    "    mnm_df.to_csv(output_dir + prefix + \".mnms\", \n",
    "                  index=True,\n",
    "                  sep=\"\\t\")\n",
    "    \n",
    "    # delete empty first row used to initialize genotype matrix            \n",
    "    geno = np.delete(geno, (0), axis=0)\n",
    "    \n",
    "    geno_afr = geno[:,:100]\n",
    "    geno_eur = geno[:,100:200]\n",
    "    \n",
    "    geno_pop = [geno_afr, geno_eur]\n",
    "    \n",
    "    for i, pop in enumerate([\"afr\", \"eur\"]):\n",
    "        np.savetxt(output_dir + prefix + \"_\" + pop + \".geno\", geno_pop[i], delimiter=\"\", fmt='%i')\n",
    "        \n",
    "    return prefix"
   ]
  },
  {
   "cell_type": "markdown",
   "metadata": {},
   "source": [
    "## Add MNMs\n",
    "\n",
    "Loop through models/replicates and randomly generate MNMs.\n",
    "\n",
    "Outputs the .mnm, .snp, and .geno files to `output/msprime/` then passes these as input to the `calc_stats_window_data.py` script from `ArchIE` to calculate the per-sample summary stats that act as features in the `ArchIE` inference method. These output files are then concatenated and passed as the test data to `ArchIE/train/train.R` to predict the fraction of archaic ancestry in each simulated sample.\n"
   ]
  },
  {
   "cell_type": "code",
   "execution_count": null,
   "metadata": {},
   "outputs": [],
   "source": [
    "# MNM simulation parameters\n",
    "mnm_dist = 100\n",
    "mnm_frac = 0.015\n",
    "\n",
    "# change the run_archie flag to True to run ArchIE on the simulated data\n",
    "run_archie = False\n",
    "\n",
    "for model_label, model in model_dict.items():\n",
    "    \n",
    "    print(\"Simulating MNMs on \" + model_label)\n",
    "    \n",
    "    for j, ts in enumerate(model):\n",
    "        \n",
    "        prefix = model_label + \\\n",
    "            \"_mnm\" + str(mnm_dist) + \"-\" + str(mnm_frac) + \"_\"\n",
    "        \n",
    "        no_mnm_prefix = no_mnms(ts,\n",
    "               output_dir=msprime_dir,\n",
    "               model_label=model_label,\n",
    "               rep_label=str(j))\n",
    "        \n",
    "        # add MNMs and write out .snp and .geno files\n",
    "        mnm_prefix = add_mnms(ts, \n",
    "                 output_dir=msprime_dir, \n",
    "                 model_label=model_label, \n",
    "                 mnm_dist=mnm_dist, \n",
    "                 mnm_frac=mnm_frac, \n",
    "                 rep_label=str(j))\n",
    "        \n",
    "        for prefix in [no_mnm_prefix, mnm_prefix]:\n",
    "            for pop in [\"afr\", \"eur\"]:\n",
    "                # write out separate .ind files per population.\n",
    "                # columns indicate sample ID, sex (set as 'U'), and label (set as 'ADMIXED')\n",
    "                ind_file = msprime_dir + prefix + pop + \"_ADMIXED.ind\"\n",
    "                with open(ind_file, \"w\") as id_file:\n",
    "                    for sample_id in range(0,100):\n",
    "                        sample_name = model_label + \\\n",
    "                            \"_mnm\" + str(mnm_dist) + \"-\" + str(mnm_frac) + \\\n",
    "                            \"_model_\" + str(j) + \"_\" + pop + \\\n",
    "                            \"_sample_\" + str(sample_id)\n",
    "                        print(sample_name + \"\\tU\\tADMIXED\",  file=id_file)\n",
    "\n",
    "                # run archie on AFR and EUR simulated data\n",
    "                if run_archie:\n",
    "                    if pop == \"afr\":\n",
    "                        ref_pop = \"eur\"\n",
    "                    else:\n",
    "                        ref_pop = \"afr\"\n",
    "                    stats_pop_cmd = \"python \" + archie_src_dir + \"data/calc_stats_window_data.py\" + \\\n",
    "                        \" -s \" + msprime_dir + prefix + str(j) + \".snp\" + \\\n",
    "                        \" -i \" + output_dir + prefix + pop + \"_ADMIXED.ind\" + \\\n",
    "                        \" -a \" + msprime_dir + prefix + str(j) + \"_\" + pop + \".geno\" + \\\n",
    "                        \" -r \" + msprime_dir + prefix + str(j) + \"_\" + ref_pop + \".geno\" + \\\n",
    "                        \" -c 1 -b 0 -e 50000 -w 50000 -z 50000 \" + \\\n",
    "                        \" > \" + archie_out_dir + prefix + str(j) + \"_\" + pop + \".txt\"  \n",
    "            #         print(stats_pop_cmd)\n",
    "                    os.system(stats_pop_cmd)\n",
    "\n",
    "            # combine .ind files into single file, for ANCESTRYMAP -> VCF format conversion\n",
    "            cat_cmd = \"cat \" + msprime_dir + prefix + \"afr_ADMIXED.ind \" + \\\n",
    "                msprime_dir + prefix + \"eur_ADMIXED.ind > \" + msprime_dir + prefix + \"combined.ind\"\n",
    "            os.system(cat_cmd)\n",
    "        \n",
    "        # add code for converting .snp/.geno/.ind data to 1 VCF per replicate\n",
    "        # ...\n",
    "        # ...\n",
    "    \n",
    "    # once analyses of all replicates for a given model are complete, combine and clean up ArchIE output\n",
    "    if run_archie:\n",
    "        for pop in [\"afr\", \"eur\"]:\n",
    "            cat_pop_cmd = \"cat \" + \\\n",
    "                archie_out_dir + \"*\" + pop + \".txt\" + \\\n",
    "                \" > \" + archie_out_dir + \"combined/\" + prefix + pop + \".txt\" \n",
    "            print(cat_pop_cmd)\n",
    "            os.system(cat_pop_cmd)\n",
    "\n",
    "        # remove ArchIE output for individual replicates\n",
    "        clean_cmd = \"rm \" + archie_out_dir + \"*\"\n",
    "        print(clean_cmd)\n",
    "        os.system(clean_cmd)"
   ]
  },
  {
   "cell_type": "code",
   "execution_count": null,
   "metadata": {},
   "outputs": [],
   "source": [
    "# ts_rep = msprime.simulate(\n",
    "#     # first 100 samples from AFR, next 100 from EUR\n",
    "#     samples=[msprime.Sample(0, 0)]*sample_size + [msprime.Sample(1, 0)]*sample_size,\n",
    "#     length=length, \n",
    "#     mutation_rate=mu, \n",
    "#     recombination_rate=rr,\n",
    "#     random_seed=seed,\n",
    "#     num_replicates=replicates,\n",
    "#     **model.asdict())\n",
    "\n",
    "# ts_rep2 = msprime.simulate(\n",
    "#     # first 100 samples from AFR, next 100 from EUR\n",
    "#     samples=[msprime.Sample(0, 0)]*sample_size + [msprime.Sample(1, 0)]*sample_size,\n",
    "#     length=length, \n",
    "#     mutation_rate=mu, \n",
    "#     recombination_rate=rr,\n",
    "#     random_seed=40,\n",
    "#     num_replicates=replicates,\n",
    "#     **model.asdict())\n",
    "\n",
    "# ts_list = [ts_rep, ts_rep2]\n",
    "\n",
    "# for ts_repi in ts_list:\n",
    "#     print(ts_repi)"
   ]
  },
  {
   "cell_type": "code",
   "execution_count": 20,
   "metadata": {},
   "outputs": [
    {
     "ename": "AttributeError",
     "evalue": "'builtin_function_or_method' object has no attribute 'seed'",
     "output_type": "error",
     "traceback": [
      "\u001b[0;31m---------------------------------------------------------------------------\u001b[0m",
      "\u001b[0;31mAttributeError\u001b[0m                            Traceback (most recent call last)",
      "\u001b[0;32m<ipython-input-20-2b137c6058b4>\u001b[0m in \u001b[0;36m<module>\u001b[0;34m\u001b[0m\n\u001b[1;32m      1\u001b[0m \u001b[0;31m# sum([0,1,2,3][2:4])/10\u001b[0m\u001b[0;34m\u001b[0m\u001b[0;34m\u001b[0m\u001b[0;34m\u001b[0m\u001b[0m\n\u001b[0;32m----> 2\u001b[0;31m \u001b[0mrandom\u001b[0m\u001b[0;34m.\u001b[0m\u001b[0mseed\u001b[0m\u001b[0;34m(\u001b[0m\u001b[0;36m10\u001b[0m\u001b[0;34m)\u001b[0m\u001b[0;34m\u001b[0m\u001b[0;34m\u001b[0m\u001b[0m\n\u001b[0m",
      "\u001b[0;31mAttributeError\u001b[0m: 'builtin_function_or_method' object has no attribute 'seed'"
     ]
    }
   ],
   "source": [
    "# sum([0,1,2,3][2:4])/10\n",
    "random.seed(10)"
   ]
  },
  {
   "cell_type": "code",
   "execution_count": 31,
   "metadata": {},
   "outputs": [
    {
     "name": "stdout",
     "output_type": "stream",
     "text": [
      "cat /mnt/norbert/home/jedidiah/projects/archanc/output/ArchIE/*afr.txt > /mnt/norbert/home/jedidiah/projects/archanc/output/ArchIE/combined/GutenkunstThreePop_mnm100-0.015_afr.txt\n",
      "cat /mnt/norbert/home/jedidiah/projects/archanc/output/ArchIE/*eur.txt > /mnt/norbert/home/jedidiah/projects/archanc/output/ArchIE/combined/GutenkunstThreePop_mnm100-0.015_eur.txt\n",
      "rm /mnt/norbert/home/jedidiah/projects/archanc/output/ArchIE/*\n"
     ]
    },
    {
     "data": {
      "text/plain": [
       "256"
      ]
     },
     "execution_count": 31,
     "metadata": {},
     "output_type": "execute_result"
    }
   ],
   "source": [
    "#         cat_afr_cmd = \"cat \" + archie_out_dir + \"*afr.txt\" + \" > \" + archie_out_dir + \"combined/\" + prefix + \"afr.txt\" \n",
    "#         print(cat_afr_cmd)\n",
    "#         os.system(cat_afr_cmd)\n",
    "\n",
    "#         cat_eur_cmd = \"cat \" + archie_out_dir + \"*eur.txt\" + \" > \" + archie_out_dir + \"combined/\" + prefix + \"eur.txt\" \n",
    "#         print(cat_eur_cmd)\n",
    "#         os.system(cat_eur_cmd)\n",
    "\n",
    "#         clean_cmd = \"rm \" + archie_out_dir + \"*\"\n",
    "#         print(clean_cmd)\n",
    "#         os.system(clean_cmd)"
   ]
  },
  {
   "cell_type": "markdown",
   "metadata": {},
   "source": [
    "# Sandbox"
   ]
  },
  {
   "cell_type": "code",
   "execution_count": null,
   "metadata": {},
   "outputs": [],
   "source": [
    "# ts_afr = msprime.simulate(\n",
    "#     samples=[msprime.Sample(0, 0)]*100,\n",
    "#     length=50000, mutation_rate=1.25e-8, random_seed=30, recombination_rate=1e-8,\n",
    "#     **model.asdict())\n",
    "\n",
    "# ts_eur = msprime.simulate(\n",
    "#     samples=[msprime.Sample(1, 0)]*100,\n",
    "#     length=50000, mutation_rate=1.25e-8, random_seed=30, recombination_rate=1e-8,\n",
    "#     **model.asdict())\n",
    "\n",
    "# tree=ts.first()\n",
    "print(ts_afr.first().draw(format=\"unicode\"))"
   ]
  },
  {
   "cell_type": "code",
   "execution_count": null,
   "metadata": {},
   "outputs": [],
   "source": [
    "# # simulate MNMs in AFR\n",
    "# afr_geno = np.zeros(100)\n",
    "# # A_new = np.array([])\n",
    "# # for variant in list(itertools.islice(ts_eur.variants(), 200)):\n",
    "# with open(\"afr_gutenkunst_mnm_100.snp\", \"w\") as text_file:\n",
    "#     for variant in list(ts_eur.variants()):\n",
    "#         print(\"\\t\".join([\"1:\"+str(round(variant.site.position)), \"1\", str(variant.site.position/10e6), str(round(variant.site.position)), \"A\", \"G\"]), file=text_file)\n",
    "#         afr_geno = np.vstack([afr_geno, variant.genotypes])\n",
    "#     #     variant.genotypes, \n",
    "#         if random() < 0.015:\n",
    "#             dist = randint(1,100)\n",
    "#             mnm_cand = variant.site.position+dist \n",
    "\n",
    "#             print(\"\\t\".join([\"1:\"+str(round(mnm_cand))+\"*\", \"1\", str(mnm_cand/10e6), str(round(mnm_cand)), \"A\", \"G\"]), file=text_file)\n",
    "#             afr_geno = np.vstack([afr_geno, variant.genotypes])\n",
    "            \n",
    "# # delete empty first row used to initialize genotype matrix            \n",
    "# afr_geno = np.delete(afr_geno, (0), axis=0)\n",
    "# np.savetxt(\"afr_gutenkunst_mnm_100.geno\", afr_geno, delimiter=\"\\t\")\n",
    "    \n",
    "# simulate MNMs in EUR\n",
    "eur_geno = np.zeros(10, dtype=np.int8)\n",
    "# A_new = np.array([])\n",
    "# for variant in list(itertools.islice(ts_eur.variants(), 200)):\n",
    "# with open(\"eur_gutenkunst_mnm_100.snp\", \"w\") as text_file:\n",
    "for variant in list(ts_eur.variants()):\n",
    "#         print(\"\\t\".join([\"1:\"+str(round(variant.site.position)), \"1\", str(variant.site.position/10e6), str(round(variant.site.position)), \"A\", \"G\"]), file=text_file)\n",
    "    eur_geno = np.vstack([eur_geno, variant.genotypes])\n",
    "#     variant.genotypes, \n",
    "    if random() < 0.015:\n",
    "        dist = randint(1,100)\n",
    "        mnm_cand = variant.site.position+dist \n",
    "\n",
    "#             print(\"\\t\".join([\"1:\"+str(round(mnm_cand))+\"*\", \"1\", str(mnm_cand/10e6), str(round(mnm_cand)), \"A\", \"G\"]), file=text_file)\n",
    "        eur_geno = np.vstack([eur_geno, variant.genotypes])\n",
    "\n",
    "# delete empty first row used to initialize genotype matrix\n",
    "eur_geno = np.delete(eur_geno, (0), axis=0)\n",
    "np.savetxt(\"eur_gutenkunst_mnm_100.geno\", eur_geno, delimiter=\"\\t\")"
   ]
  },
  {
   "cell_type": "code",
   "execution_count": 25,
   "metadata": {},
   "outputs": [
    {
     "data": {
      "text/plain": [
       "array([[1, 1, 0, 1, 0, 1, 0, 0, 1, 0],\n",
       "       [1, 0, 0, 0, 0, 0, 0, 0, 1, 0],\n",
       "       [0, 0, 1, 0, 0, 1, 1, 1, 0, 1],\n",
       "       [0, 1, 1, 1, 1, 0, 1, 0, 0, 0],\n",
       "       [1, 1, 1, 0, 1, 0, 1, 0, 1, 0],\n",
       "       [0, 0, 1, 0, 0, 1, 0, 0, 0, 0],\n",
       "       [1, 0, 0, 0, 0, 0, 0, 1, 0, 1],\n",
       "       [0, 1, 1, 0, 1, 0, 0, 1, 0, 0],\n",
       "       [1, 1, 1, 1, 0, 0, 0, 0, 0, 0],\n",
       "       [0, 0, 1, 0, 0, 0, 0, 0, 0, 0]], dtype=int8)"
      ]
     },
     "execution_count": 25,
     "metadata": {},
     "output_type": "execute_result"
    }
   ],
   "source": [
    "eur_geno = np.empty([10, 20], dtype=np.int8)\n",
    "eur_geno[:,10:20]"
   ]
  },
  {
   "cell_type": "code",
   "execution_count": 80,
   "metadata": {},
   "outputs": [],
   "source": [
    "test_arr = np.array([[  0, -11,  -2, -36,  -9,  85,   0,   0,   1,   1],\n",
    "       [  1,   1,   1,   0,   0,   1,   1,   0,   0,   0],\n",
    "       [  0,   1,   0,   0,   1,   0,   0,   0,   0,   0],\n",
    "       [  0,   0,   1,   0,   0,   0,   1,   0,   0,   0],\n",
    "       [  0,   0,   0,   0,   0,   0,   1,   0,   0,   1],\n",
    "       [  0,   0,   1,   0,   0,   0,   0,   1,   0,   1],\n",
    "       [  0,   0,   0,   0,   0,   0,   1,   0,   0,   0],\n",
    "       [  0,   1,   1,   0,   1,   0,   1,   0,   1,   1],\n",
    "       [  1,   1,   1,   1,   0,   0,   1,   0,   0,   0]], dtype=\"int8\")"
   ]
  },
  {
   "cell_type": "code",
   "execution_count": 83,
   "metadata": {},
   "outputs": [
    {
     "data": {
      "text/plain": [
       "9"
      ]
     },
     "execution_count": 83,
     "metadata": {},
     "output_type": "execute_result"
    }
   ],
   "source": [
    "test_arr.shape[0]"
   ]
  },
  {
   "cell_type": "code",
   "execution_count": null,
   "metadata": {},
   "outputs": [],
   "source": [
    "# ts_rep = msprime.simulate(\n",
    "# #         samples=[msprime.Sample(i, 0)]*100,\n",
    "#     samples=[msprime.Sample(gp, 0) for gp in range(2)]*100,\n",
    "#     length=50000, \n",
    "#     mutation_rate=1.25e-8, \n",
    "#     recombination_rate=1e-8,\n",
    "#     random_seed=30,\n",
    "#     num_replicates=5,\n",
    "#     **model.asdict())\n",
    "\n",
    "# # np.repeat([msprime.Sample(gp, 0) for gp in range(2)], 100)"
   ]
  },
  {
   "cell_type": "code",
   "execution_count": null,
   "metadata": {},
   "outputs": [],
   "source": [
    "# for ts in ts_rep:\n",
    "#     print(ts.genotype_matrix().shape)\n",
    "# #     for node in ts.nodes():\n",
    "# # #         print(1)\n",
    "# # #         print(node.flags())\n",
    "# #         if node.population==1:\n",
    "# #             print(node)"
   ]
  },
  {
   "cell_type": "code",
   "execution_count": null,
   "metadata": {},
   "outputs": [],
   "source": [
    "for node in ts_eur.nodes():\n",
    "    print(node)"
   ]
  },
  {
   "cell_type": "code",
   "execution_count": null,
   "metadata": {},
   "outputs": [],
   "source": [
    "ts_afr_rep = msprime.simulate(\n",
    "    samples=[msprime.Sample(0, 0)]*100,\n",
    "    length=50000, \n",
    "    mutation_rate=1.25e-8, \n",
    "    recombination_rate=1e-8,\n",
    "    random_seed=30,\n",
    "    num_replicates=5,\n",
    "    **model.asdict())\n",
    "\n",
    "for j, ts in enumerate(ts_afr_rep):\n",
    "    add_mnms(ts, \"gutenkunst_rep\"+str(j), \"afr\", 100, 0.015)\n",
    "\n",
    "    \n",
    "# ts_eur_rep = msprime.simulate(\n",
    "#     samples=[msprime.Sample(1, 0)]*100,\n",
    "#     length=50000, \n",
    "#     mutation_rate=1.25e-8, \n",
    "#     recombination_rate=1e-8,\n",
    "#     random_seed=30,\n",
    "#     num_replicates=5,\n",
    "#     **model.asdict())"
   ]
  },
  {
   "cell_type": "markdown",
   "metadata": {},
   "source": [
    "## tweaking code from ArchIE"
   ]
  },
  {
   "cell_type": "code",
   "execution_count": null,
   "metadata": {},
   "outputs": [],
   "source": [
    "ref_geno = []\n",
    "with open(\"/mnt/norbert/home/jedidiah/projects/primeval/gutenkunst_eur_mnm100-0.015_0.geno\", 'r') as f:\n",
    "        for line in f:\n",
    "            ll = list(line)[:-1]\n",
    "            li = [int(i) for i in ll]\n",
    "            ref_geno.append(li)\n"
   ]
  },
  {
   "cell_type": "code",
   "execution_count": null,
   "metadata": {},
   "outputs": [],
   "source": [
    "len(ref_geno[1])"
   ]
  },
  {
   "cell_type": "code",
   "execution_count": null,
   "metadata": {},
   "outputs": [],
   "source": [
    "geno = []\n",
    "with open(\"/mnt/norbert/home/jedidiah/projects/primeval/gutenkunst_afr_mnm100-0.015_0.geno\", 'r') as f:\n",
    "        for line in f:\n",
    "            ll = list(line)[:-1]\n",
    "            li = [int(i) for i in ll]\n",
    "            geno.append(li)"
   ]
  },
  {
   "cell_type": "code",
   "execution_count": null,
   "metadata": {},
   "outputs": [],
   "source": [
    "import sklearn.metrics.pairwise\n",
    "f = np.array(geno)[:,1]\n",
    "t_r = np.transpose(np.array(ref_geno))\n",
    "d = []\n",
    "for r in t_r:\n",
    "    r_np = np.array(r)\n",
    "    arr = np.array([f, r_np])\n",
    "    d.append(np.max(sklearn.metrics.pairwise.pairwise_distances(arr)))\n"
   ]
  },
  {
   "cell_type": "code",
   "execution_count": null,
   "metadata": {},
   "outputs": [],
   "source": [
    "arr"
   ]
  },
  {
   "cell_type": "markdown",
   "metadata": {},
   "source": [
    "## Playing with recombination breakpoints"
   ]
  },
  {
   "cell_type": "code",
   "execution_count": null,
   "metadata": {},
   "outputs": [],
   "source": [
    "print(list(ts.breakpoints())[1:10])"
   ]
  },
  {
   "cell_type": "code",
   "execution_count": null,
   "metadata": {},
   "outputs": [],
   "source": [
    "from bisect import bisect_left\n",
    "\n",
    "def takeClosest(myList, myNumber):\n",
    "    \"\"\"\n",
    "    Assumes myList is sorted. Returns closest value to myNumber.\n",
    "\n",
    "    If two numbers are equally close, return the smallest number.\n",
    "    \"\"\"\n",
    "    pos = bisect_left(myList, myNumber)\n",
    "    if pos == 0:\n",
    "        return myList[0]\n",
    "    if pos == len(myList):\n",
    "        return myList[-1]\n",
    "    before = myList[pos - 1]\n",
    "    after = myList[pos]\n",
    "    return after\n",
    "#     if after - myNumber < myNumber - before:\n",
    "#        return after\n",
    "#     else:\n",
    "#        return before"
   ]
  },
  {
   "cell_type": "code",
   "execution_count": null,
   "metadata": {},
   "outputs": [],
   "source": [
    "takeClosest(list(ts.breakpoints()), 2813)"
   ]
  },
  {
   "cell_type": "code",
   "execution_count": 7,
   "metadata": {},
   "outputs": [
    {
     "data": {
      "text/plain": [
       "17390.058059971307"
      ]
     },
     "execution_count": 7,
     "metadata": {},
     "output_type": "execute_result"
    }
   ],
   "source": [
    "import math\n",
    "1032 / math.exp(-0.00307 * 23000/25)"
   ]
  }
 ],
 "metadata": {
  "kernelspec": {
   "display_name": "anaconda",
   "language": "python",
   "name": "anaconda"
  },
  "language_info": {
   "codemirror_mode": {
    "name": "ipython",
    "version": 3
   },
   "file_extension": ".py",
   "mimetype": "text/x-python",
   "name": "python",
   "nbconvert_exporter": "python",
   "pygments_lexer": "ipython3",
   "version": "3.6.8"
  }
 },
 "nbformat": 4,
 "nbformat_minor": 2
}
